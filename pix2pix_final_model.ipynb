{
  "cells": [
    {
      "cell_type": "code",
      "execution_count": 1,
      "metadata": {
        "colab": {
          "base_uri": "https://localhost:8080/"
        },
        "id": "B-Tx9_SUIPrp",
        "outputId": "6ddf07c4-9537-45e2-ae07-e4cd996c2c53"
      },
      "outputs": [
        {
          "name": "stderr",
          "output_type": "stream",
          "text": [
            "c:\\Users\\ASUS\\anaconda3\\envs\\deeplearning\\Lib\\site-packages\\torch\\utils\\_pytree.py:185: FutureWarning: optree is installed but the version is too old to support PyTorch Dynamo in C++ pytree. C++ pytree support is disabled. Please consider upgrading optree using `python3 -m pip install --upgrade 'optree>=0.13.0'`.\n",
            "  warnings.warn(\n"
          ]
        },
        {
          "name": "stdout",
          "output_type": "stream",
          "text": [
            "Input shape (X): torch.Size([16, 1, 64, 64])\n",
            "Target shape (Y): torch.Size([16, 1, 64, 64])\n"
          ]
        }
      ],
      "source": [
        "import numpy as np\n",
        "import torch\n",
        "from torch.utils.data import Dataset, DataLoader\n",
        "\n",
        "# Dataset Path\n",
        "data_path = 'mnist_test_seq.npy'\n",
        "\n",
        "# Load Data as Numpy Array\n",
        "MovingMNIST = np.load(data_path).transpose(1, 0, 2, 3)  # Shape: (10000, 20, 64, 64)\n",
        "\n",
        "# Shuffle Data\n",
        "np.random.shuffle(MovingMNIST)\n",
        "\n",
        "# Split into Train, Validation, and Test\n",
        "train_data = MovingMNIST[:8000]   # 8000 samples for training\n",
        "val_data = MovingMNIST[8000:9000] # 1000 samples for validation\n",
        "test_data = MovingMNIST[9000:]    # 1000 samples for testing\n",
        "\n",
        "# Define custom Dataset that returns (frame_t, frame_t+1) pairs\n",
        "class FramePairDataset(Dataset):\n",
        "    def __init__(self, sequences):\n",
        "        self.pairs = []\n",
        "        for seq in sequences:\n",
        "            for i in range(19):  # Create 19 pairs per sequence\n",
        "                input_frame = seq[i]\n",
        "                target_frame = seq[i + 1]\n",
        "                self.pairs.append((input_frame, target_frame))\n",
        "\n",
        "    def __len__(self):\n",
        "        return len(self.pairs)\n",
        "\n",
        "    def __getitem__(self, idx):\n",
        "        x, y = self.pairs[idx]\n",
        "        x = torch.tensor(x, dtype=torch.float32).unsqueeze(0) / 255.0  # Normalize and add channel dim\n",
        "        y = torch.tensor(y, dtype=torch.float32).unsqueeze(0) / 255.0\n",
        "        return x, y  # Shapes: (1, 64, 64)\n",
        "\n",
        "# Batch size\n",
        "batch_size = 16\n",
        "\n",
        "# Create DataLoaders\n",
        "train_loader = DataLoader(FramePairDataset(train_data), batch_size=batch_size, shuffle=True, drop_last=True)\n",
        "val_loader = DataLoader(FramePairDataset(val_data), batch_size=batch_size, shuffle=False)\n",
        "test_loader = DataLoader(FramePairDataset(test_data), batch_size=batch_size, shuffle=False)\n",
        "\n",
        "# Check shapes\n",
        "sample_X, sample_Y = next(iter(train_loader))\n",
        "print(f\"Input shape (X): {sample_X.shape}\")  # Expected: (batch_size, 1, 64, 64)\n",
        "print(f\"Target shape (Y): {sample_Y.shape}\")  # Expected: (batch_size, 1, 64, 64)\n"
      ]
    },
    {
      "cell_type": "code",
      "execution_count": 8,
      "metadata": {
        "colab": {
          "base_uri": "https://localhost:8080/"
        },
        "id": "EHGlYLioIPrt",
        "outputId": "ed26fb41-3532-4175-c87e-561587cbcca6"
      },
      "outputs": [
        {
          "name": "stdout",
          "output_type": "stream",
          "text": [
            "Generator output shape: torch.Size([8, 1, 64, 64])\n"
          ]
        }
      ],
      "source": [
        "import torch\n",
        "import torch.nn as nn\n",
        "\n",
        "# Define a U-Net block\n",
        "class UNetBlock(nn.Module):\n",
        "    def __init__(self, in_channels, out_channels, down=True, use_dropout=False):\n",
        "        super(UNetBlock, self).__init__()\n",
        "        if down:\n",
        "            self.conv = nn.Sequential(\n",
        "                nn.Conv2d(in_channels, out_channels, kernel_size=4, stride=2, padding=1, bias=False),\n",
        "                nn.BatchNorm2d(out_channels),\n",
        "                nn.LeakyReLU(0.2, inplace=True)\n",
        "            )\n",
        "        else:\n",
        "            self.conv = nn.Sequential(\n",
        "                nn.ConvTranspose2d(in_channels, out_channels, kernel_size=4, stride=2, padding=1, bias=False),\n",
        "                nn.BatchNorm2d(out_channels),\n",
        "                nn.ReLU(inplace=True)\n",
        "            )\n",
        "\n",
        "        self.use_dropout = use_dropout\n",
        "        self.dropout = nn.Dropout(0.5) if use_dropout else None\n",
        "\n",
        "    def forward(self, x):\n",
        "        x = self.conv(x)\n",
        "        if self.use_dropout:\n",
        "            x = self.dropout(x)\n",
        "        return x\n",
        "\n",
        "# Define U-Net Generator\n",
        "class UNetGenerator(nn.Module):\n",
        "    def __init__(self, in_channels=9, out_channels=1, features=[64, 128, 256, 512]):\n",
        "        super(UNetGenerator, self).__init__()\n",
        "        # Encoder (Downsampling)\n",
        "        self.enc1 = UNetBlock(in_channels, features[0], down=True, use_dropout=False)   # 64x64 -> 32x32\n",
        "        self.enc2 = UNetBlock(features[0], features[1], down=True, use_dropout=False)   # 32x32 -> 16x16\n",
        "        self.enc3 = UNetBlock(features[1], features[2], down=True, use_dropout=False)   # 16x16 -> 8x8\n",
        "        self.enc4 = UNetBlock(features[2], features[3], down=True, use_dropout=False)   # 8x8 -> 4x4\n",
        "        self.enc5 = UNetBlock(features[3], features[3], down=True, use_dropout=False)   # 4x4 -> 2x2\n",
        "\n",
        "        # Bottleneck\n",
        "        self.bottleneck = nn.Sequential(\n",
        "            nn.Conv2d(features[3], features[3], kernel_size=4, stride=2, padding=1, bias=False),\n",
        "            nn.ReLU(inplace=True)\n",
        "        )  # 2x2 -> 1x1\n",
        "\n",
        "        # Decoder (Upsampling)\n",
        "        self.dec5 = UNetBlock(features[3], features[3], down=False, use_dropout=True)   # 1x1 -> 2x2\n",
        "        self.dec4 = UNetBlock(features[3] * 2, features[3], down=False, use_dropout=False)  # 2x2 -> 4x4\n",
        "        self.dec3 = UNetBlock(features[3] * 2, features[2], down=False, use_dropout=False)  # 4x4 -> 8x8\n",
        "        self.dec2 = UNetBlock(features[2] * 2, features[1], down=False, use_dropout=False)  # 8x8 -> 16x16\n",
        "        self.dec1 = UNetBlock(features[1] * 2, features[0], down=False, use_dropout=False)  # 16x16 -> 32x32\n",
        "\n",
        "\n",
        "        self.final = nn.Sequential(\n",
        "            nn.ConvTranspose2d(features[0]* 2, out_channels, kernel_size=4, stride=2, padding=1),\n",
        "            nn.Tanh()  # Outputs in range [-1, 1]\n",
        "        )  # 32x32 -> 64x64\n",
        "\n",
        "    def forward(self, x):\n",
        "        # Downsampling\n",
        "        d1 = self.enc1(x)\n",
        "        d2 = self.enc2(d1)\n",
        "        d3 = self.enc3(d2)\n",
        "        d4 = self.enc4(d3)\n",
        "        d5 = self.enc5(d4)\n",
        "\n",
        "        # Bottleneck\n",
        "        b = self.bottleneck(d5)\n",
        "\n",
        "        # Upsampling with skip connections (Concatenation)\n",
        "        u5 = self.dec5(b)\n",
        "        u5 = torch.cat([u5, d5], dim=1)\n",
        "\n",
        "        u4 = self.dec4(u5)\n",
        "        u4 = torch.cat([u4, d4], dim=1)\n",
        "\n",
        "        u3 = self.dec3(u4)\n",
        "        u3 = torch.cat([u3, d3], dim=1)\n",
        "\n",
        "        u2 = self.dec2(u3)\n",
        "        u2 = torch.cat([u2, d2], dim=1)\n",
        "\n",
        "        u1 = self.dec1(u2)\n",
        "        u1 = torch.cat([u1, d1], dim=1)\n",
        "\n",
        "        return self.final(u1)\n",
        "\n",
        "# Initialize Generator\n",
        "device = 'cuda' if torch.cuda.is_available() else 'cpu'\n",
        "generator = UNetGenerator(in_channels=1).to(device)\n",
        "\n",
        "\n",
        "# Test generator output shape\n",
        "x = torch.randn((8, 1, 64, 64)).to(device)\n",
        "\n",
        "y_pred = generator(x)\n",
        "print(f\"Generator output shape: {y_pred.shape}\")  # Expected: (8, 1, 64, 64)\n"
      ]
    },
    {
      "cell_type": "code",
      "execution_count": 9,
      "metadata": {
        "colab": {
          "base_uri": "https://localhost:8080/"
        },
        "id": "NeVl3f61IPru",
        "outputId": "39b87531-a643-4a62-a78d-655df1737e24"
      },
      "outputs": [
        {
          "name": "stdout",
          "output_type": "stream",
          "text": [
            "Discriminator output shape: torch.Size([8, 1, 6, 6])\n"
          ]
        }
      ],
      "source": [
        "import torch\n",
        "import torch.nn as nn\n",
        "\n",
        "class PatchGANDiscriminator(nn.Module):\n",
        "    def __init__(self, in_channels=2, features=[64, 128, 256, 512]):\n",
        "        super(PatchGANDiscriminator, self).__init__()\n",
        "\n",
        "        def conv_block(in_channels, out_channels, stride):\n",
        "            return nn.Sequential(\n",
        "                nn.Conv2d(in_channels, out_channels, kernel_size=4, stride=stride, padding=1, bias=False),\n",
        "                nn.BatchNorm2d(out_channels),\n",
        "                nn.LeakyReLU(0.2, inplace=True)\n",
        "            )\n",
        "\n",
        "        self.model = nn.Sequential(\n",
        "            nn.Conv2d(in_channels, features[0], kernel_size=4, stride=2, padding=1, bias=False),  #64×64 → 32×32\n",
        "            nn.LeakyReLU(0.2, inplace=True),\n",
        "\n",
        "            conv_block(features[0], features[1], stride=2),\n",
        "            conv_block(features[1], features[2], stride=2),\n",
        "            conv_block(features[2], features[3], stride=1),\n",
        "\n",
        "            nn.Conv2d(features[3], 1, kernel_size=4, stride=1, padding=1)  \n",
        "        )\n",
        "\n",
        "    def forward(self, x):\n",
        "        return self.model(x) \n",
        "\n",
        "\n",
        "# Initialize Discriminator\n",
        "device = 'cuda' if torch.cuda.is_available() else 'cpu'\n",
        "discriminator = PatchGANDiscriminator().to(device)\n",
        "\n",
        "# Test discriminator output shape\n",
        "x = torch.randn((8, 2, 64, 64)).to(device) \n",
        "y_pred = discriminator(x)\n",
        "print(f\"Discriminator output shape: {y_pred.shape}\")  # Expected: (8, 1, 6, 6)\n"
      ]
    },
    {
      "cell_type": "code",
      "execution_count": 10,
      "metadata": {
        "id": "sCOa9ABjIPrv"
      },
      "outputs": [],
      "source": [
        "from torch.utils.data import Dataset, DataLoader\n",
        "import numpy as np\n",
        "import torch\n",
        "\n",
        "class MovingMNISTDataset(Dataset):\n",
        "    def __init__(self, npy_file):\n",
        "        self.data = np.load(npy_file)  # Shape: (20, 10000, 64, 64)\n",
        "        self.data = self.data.transpose(1, 0, 2, 3)  # New Shape: (10000, 20, 64, 64)\n",
        "\n",
        "    def __len__(self):\n",
        "        return len(self.data)\n",
        "\n",
        "    def __getitem__(self, idx):\n",
        "        sequence = self.data[idx] / 255.0  # Normalize to [0, 1]\n",
        "\n",
        "        input_frame = sequence[0]    # Frame at time t\n",
        "        target_frame = sequence[1]   # Frame at time t+1\n",
        "\n",
        "        # Add channel dimension: (64, 64) -> (1, 64, 64)\n",
        "        input_frame = torch.tensor(input_frame, dtype=torch.float32).unsqueeze(0)\n",
        "        target_frame = torch.tensor(target_frame, dtype=torch.float32).unsqueeze(0)\n",
        "\n",
        "        return input_frame, target_frame\n",
        "\n",
        "# Load Dataset\n",
        "dataset = MovingMNISTDataset(\"mnist_test_seq.npy\")\n",
        "\n",
        "# Create DataLoader\n",
        "dataloader = DataLoader(dataset, batch_size=8, shuffle=True)\n"
      ]
    },
    {
      "cell_type": "code",
      "execution_count": 23,
      "metadata": {
        "colab": {
          "base_uri": "https://localhost:8080/"
        },
        "id": "kAaLm2M1IPrv",
        "outputId": "5c5ad596-0a8a-44d6-b210-5e7943b0f5a5"
      },
      "outputs": [
        {
          "name": "stderr",
          "output_type": "stream",
          "text": [
            "Epoch [1/10]: 100%|██████████| 1250/1250 [00:44<00:00, 28.11it/s, Disc_Loss=0, Gen_Loss=1.68]\n",
            "Epoch [2/10]: 100%|██████████| 1250/1250 [01:05<00:00, 19.01it/s, Disc_Loss=0.166, Gen_Loss=8.01]\n",
            "Epoch [3/10]: 100%|██████████| 1250/1250 [00:44<00:00, 28.01it/s, Disc_Loss=0, Gen_Loss=0.917]\n",
            "Epoch [4/10]: 100%|██████████| 1250/1250 [01:05<00:00, 18.95it/s, Disc_Loss=0.163, Gen_Loss=10.5]\n",
            "Epoch [5/10]: 100%|██████████| 1250/1250 [00:44<00:00, 28.01it/s, Disc_Loss=0, Gen_Loss=1.11] \n",
            "Epoch [6/10]: 100%|██████████| 1250/1250 [01:06<00:00, 18.93it/s, Disc_Loss=0.17, Gen_Loss=9.57] \n",
            "Epoch [7/10]: 100%|██████████| 1250/1250 [00:44<00:00, 28.03it/s, Disc_Loss=0, Gen_Loss=0.888]\n",
            "Epoch [8/10]: 100%|██████████| 1250/1250 [01:06<00:00, 18.93it/s, Disc_Loss=0.163, Gen_Loss=8.24]\n",
            "Epoch [9/10]: 100%|██████████| 1250/1250 [00:44<00:00, 28.02it/s, Disc_Loss=0, Gen_Loss=1.01] \n",
            "Epoch [10/10]: 100%|██████████| 1250/1250 [01:06<00:00, 18.91it/s, Disc_Loss=0.163, Gen_Loss=13.6]\n"
          ]
        }
      ],
      "source": [
        "import torch.optim as optim\n",
        "from tqdm import tqdm\n",
        "\n",
        "# Initialize Generator and Discriminator\n",
        "generator = UNetGenerator(in_channels=1).to(device)\n",
        "discriminator = PatchGANDiscriminator(in_channels=2).to(device)  # 1 input + 1 target = 2 channels\n",
        "\n",
        "# Optimizers\n",
        "lr = 2e-4\n",
        "beta1, beta2 = 0.5, 0.999\n",
        "gen_optimizer = optim.Adam(generator.parameters(), lr=lr, betas=(beta1, beta2))\n",
        "disc_optimizer = optim.Adam(discriminator.parameters(), lr=lr, betas=(beta1, beta2))\n",
        "\n",
        "# Loss functions\n",
        "bce_loss = nn.BCEWithLogitsLoss()\n",
        "l1_loss = nn.L1Loss()\n",
        "\n",
        "# Training Loop\n",
        "num_epochs = 10\n",
        "for epoch in range(num_epochs):\n",
        "    lambda_L1 = 10 # Decaying L1 loss weight\n",
        "    loop = tqdm(dataloader, leave=True)\n",
        "\n",
        "    for i, (input_frames, real_next_frame) in enumerate(loop):\n",
        "        input_frames = input_frames.to(device)           # (B, 1, 64, 64)\n",
        "        real_next_frame = real_next_frame.to(device)     # (B, 1, 64, 64)\n",
        "\n",
        "        # ===== Forward Pass =====\n",
        "        fake_next_frame = generator(input_frames)\n",
        "\n",
        "        # Create real and fake pairs for discriminator\n",
        "        real_pair = torch.cat((input_frames, real_next_frame), dim=1)  # (B, 2, 64, 64)\n",
        "        fake_pair = torch.cat((input_frames, fake_next_frame), dim=1)  # (B, 2, 64, 64)\n",
        "\n",
        "        # ===== Train Discriminator =====\n",
        "        if (epoch + 1) % 2 == 0:\n",
        "            for _ in range(2): \n",
        "                disc_real = discriminator(real_pair)\n",
        "                disc_fake = discriminator(fake_pair.detach())\n",
        "\n",
        "                loss_real = bce_loss(disc_real, torch.full_like(disc_real, 0.9))\n",
        "                loss_fake = bce_loss(disc_fake, torch.zeros_like(disc_fake))\n",
        "                disc_loss = (loss_real + loss_fake) / 2\n",
        "\n",
        "                disc_optimizer.zero_grad()\n",
        "                disc_loss.backward()\n",
        "                disc_optimizer.step()\n",
        "        else:\n",
        "            disc_loss = torch.tensor(0.0).to(device)\n",
        "\n",
        "        # ===== Train Generator =====\n",
        "        disc_fake = discriminator(fake_pair)\n",
        "        adversarial_loss = bce_loss(disc_fake, torch.ones_like(disc_fake))\n",
        "        l1_loss_value = l1_loss(fake_next_frame, real_next_frame) * lambda_L1\n",
        "        gen_loss = adversarial_loss + l1_loss_value\n",
        "\n",
        "        gen_optimizer.zero_grad()\n",
        "        gen_loss.backward()\n",
        "        gen_optimizer.step()\n",
        "\n",
        "        # Logging\n",
        "        loop.set_description(f\"Epoch [{epoch+1}/{num_epochs}]\")\n",
        "        loop.set_postfix(Gen_Loss=gen_loss.item(), Disc_Loss=disc_loss.item())\n"
      ]
    },
    {
      "cell_type": "code",
      "execution_count": 24,
      "metadata": {
        "id": "X2qhkaR6IPrw"
      },
      "outputs": [],
      "source": [
        "import matplotlib.pyplot as plt\n",
        "import os\n",
        "\n",
        "# Function to visualize real and generated frames\n",
        "def visualize_samples(epoch, input_frames, real_next_frame, fake_next_frame, save_path=\"generated_samples\"):\n",
        "    os.makedirs(save_path, exist_ok=True)  # Create folder if not exists\n",
        "\n",
        "    fig, axes = plt.subplots(3, 8, figsize=(15, 5))  # 3 rows: input, real, fake\n",
        "\n",
        "    for i in range(8):  # Show first 8 samples\n",
        "        axes[0, i].imshow(input_frames[i, -1].cpu().detach().numpy(), cmap='gray')\n",
        "        axes[0, i].axis('off')\n",
        "\n",
        "        axes[1, i].imshow(real_next_frame[i, 0].cpu().detach().numpy(), cmap='gray')\n",
        "        axes[1, i].axis('off')\n",
        "\n",
        "        axes[2, i].imshow(fake_next_frame[i, 0].cpu().detach().numpy(), cmap='gray')  \n",
        "        axes[2, i].axis('off')\n",
        "\n",
        "    axes[0, 0].set_ylabel(\"Input (t-1)\")\n",
        "    axes[1, 0].set_ylabel(\"Real (t)\")\n",
        "    axes[2, 0].set_ylabel(\"Fake (t)\")\n",
        "\n",
        "    plt.savefig(f\"{save_path}/epoch_{epoch}.png\")\n",
        "    plt.close()\n",
        "\n",
        "# Inside training loop, after generator step\n",
        "if (epoch + 1) % 1 == 0:  # Save every epoch\n",
        "    visualize_samples(epoch, input_frames, real_next_frame, fake_next_frame)\n"
      ]
    },
    {
      "cell_type": "code",
      "execution_count": 25,
      "metadata": {
        "colab": {
          "base_uri": "https://localhost:8080/",
          "height": 443
        },
        "id": "b2csUKWDIPrw",
        "outputId": "c36dafd4-0f4b-45cf-e366-6696b0334cca"
      },
      "outputs": [
        {
          "name": "stderr",
          "output_type": "stream",
          "text": [
            "C:\\Users\\ASUS\\AppData\\Local\\Temp\\ipykernel_21652\\3628018701.py:32: DeprecationWarning: Starting with ImageIO v3 the behavior of this function will switch to that of iio.v3.imread. To keep the current behavior (and make this warning disappear) use `import imageio.v2 as imageio` or call `imageio.v2.imread` directly.\n",
            "  images.append(imageio.imread(buf))\n"
          ]
        },
        {
          "data": {
            "image/gif": "[encoded data removed]",
            "text/plain": [
              "<IPython.core.display.Image object>"
            ]
          },
          "metadata": {},
          "output_type": "display_data"
        }
      ],
      "source": [
        "import imageio\n",
        "import torch\n",
        "import numpy as np\n",
        "import io\n",
        "from IPython.display import display, Image\n",
        "import matplotlib.pyplot as plt\n",
        "\n",
        "def create_gif(input_frames, fake_frames, real_frames, save_path=\"generated_gif.gif\"):\n",
        "    images = []\n",
        "\n",
        "    for t in range(fake_frames.shape[1]):  # Iterate over timesteps\n",
        "        fig, axes = plt.subplots(1, 3, figsize=(12, 4))\n",
        "\n",
        "        axes[0].imshow(input_frames[0, -1].cpu().detach().numpy(), cmap='gray')  \n",
        "        axes[0].set_title(\"Input (t-1)\")\n",
        "        axes[0].axis('off')\n",
        "\n",
        "        axes[1].imshow(real_frames[0, t].cpu().detach().numpy(), cmap='gray')  \n",
        "        axes[1].set_title(\"Ground Truth (t)\")\n",
        "        axes[1].axis('off')\n",
        "\n",
        "        axes[2].imshow(fake_frames[0, t].cpu().detach().numpy(), cmap='gray') \n",
        "        axes[2].set_title(\"Generated (t)\")\n",
        "        axes[2].axis('off')\n",
        "\n",
        "        plt.tight_layout()\n",
        "\n",
        "        # Save to a buffer\n",
        "        buf = io.BytesIO()\n",
        "        plt.savefig(buf, format='png')\n",
        "        buf.seek(0)\n",
        "        images.append(imageio.imread(buf))\n",
        "        plt.close()\n",
        "\n",
        "    # Save GIF\n",
        "    imageio.mimsave(save_path, images, duration=200)\n",
        "\n",
        "    # Display GIF in Jupyter Notebook\n",
        "    display(Image(filename=save_path))\n",
        "\n",
        "# After training:\n",
        "create_gif(input_frames, fake_next_frame, real_next_frame)\n"
      ]
    },
    {
      "cell_type": "code",
      "execution_count": 38,
      "metadata": {},
      "outputs": [
        {
          "data": {
            "application/vnd.jupyter.widget-view+json": {
              "model_id": "ca8d7ad7e2a345f68ba51b24f9c35dce",
              "version_major": 2,
              "version_minor": 0
            },
            "text/plain": [
              "HBox(children=(Image(value=b'GIF89a\\xc0\\x00@\\x00\\x87\\x00\\x00\\x00\\x00\\x00\\x01\\x01\\x01\\x03\\x03\\x03\\x04\\x04\\x04\\x…"
            ]
          },
          "metadata": {},
          "output_type": "display_data"
        }
      ],
      "source": [
        "import imageio\n",
        "import numpy as np\n",
        "import io\n",
        "from IPython.display import display\n",
        "from ipywidgets import Image as WImage, HBox\n",
        "\n",
        "# Replace variable names accordingly\n",
        "input_np = input_frames.cpu().numpy().squeeze(1)\n",
        "target_np = real_next_frame.cpu().numpy().squeeze(1)\n",
        "generated_np = fake_next_frame.cpu().detach().numpy().squeeze(1)\n",
        "\n",
        "# Normalize\n",
        "def normalize(img):\n",
        "    img = (img - img.min()) / (img.max() - img.min() + 1e-8)\n",
        "    return (img * 255).astype(np.uint8)\n",
        "\n",
        "# Create frames\n",
        "frames = []\n",
        "for i in range(len(input_np)):\n",
        "    inp = normalize(input_np[i])\n",
        "    tgt = normalize(target_np[i])\n",
        "    gen = normalize(generated_np[i])\n",
        "\n",
        "    frame = np.hstack([inp, tgt, gen])\n",
        "    frames.append(frame)\n",
        "\n",
        "# Save and display as GIF\n",
        "with io.BytesIO() as gif_buffer:\n",
        "    imageio.mimsave(gif_buffer, frames, format='GIF', duration=200)\n",
        "    output_gif = gif_buffer.getvalue()\n",
        "\n",
        "    # Save to disk\n",
        "    with open(\"pix2pix_prediction.gif\", \"wb\") as f:\n",
        "        f.write(output_gif)\n",
        "\n",
        "display(HBox([WImage(value=output_gif)]))\n"
      ]
    }
  ],
  "metadata": {
    "accelerator": "GPU",
    "colab": {
      "gpuType": "T4",
      "provenance": []
    },
    "kernelspec": {
      "display_name": "deeplearning",
      "language": "python",
      "name": "python3"
    },
    "language_info": {
      "codemirror_mode": {
        "name": "ipython",
        "version": 3
      },
      "file_extension": ".py",
      "mimetype": "text/x-python",
      "name": "python",
      "nbconvert_exporter": "python",
      "pygments_lexer": "ipython3",
      "version": "3.12.4"
    }
  },
  "nbformat": 4,
  "nbformat_minor": 0
}
